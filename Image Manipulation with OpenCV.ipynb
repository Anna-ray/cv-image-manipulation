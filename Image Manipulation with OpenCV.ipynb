{
 "cells": [
  {
   "cell_type": "markdown",
   "id": "2d988cdc",
   "metadata": {},
   "source": [
    "# Image manipulation with OpenCV\n"
   ]
  },
  {
   "cell_type": "code",
   "execution_count": 5,
   "id": "48de4a8d",
   "metadata": {},
   "outputs": [
    {
     "name": "stdout",
     "output_type": "stream",
     "text": [
      "[[0 0 0]\n",
      " [0 0 0]\n",
      " [0 0 0]]\n"
     ]
    }
   ],
   "source": [
    "import numpy as np\n",
    "import cv2\n",
    "img = np.zeros((3,3), dtype=np.uint8)\n",
    "print(img)"
   ]
  },
  {
   "cell_type": "code",
   "execution_count": 6,
   "id": "d45cd3a9",
   "metadata": {},
   "outputs": [
    {
     "name": "stdout",
     "output_type": "stream",
     "text": [
      "[[[0 0 0]\n",
      "  [0 0 0]\n",
      "  [0 0 0]]\n",
      "\n",
      " [[0 0 0]\n",
      "  [0 0 0]\n",
      "  [0 0 0]]\n",
      "\n",
      " [[0 0 0]\n",
      "  [0 0 0]\n",
      "  [0 0 0]]]\n"
     ]
    }
   ],
   "source": [
    "img = cv2.cvtColor(img, cv2.COLOR_GRAY2BGR)\n",
    "print(img)"
   ]
  },
  {
   "cell_type": "code",
   "execution_count": 7,
   "id": "6d8d53fb",
   "metadata": {},
   "outputs": [
    {
     "name": "stdout",
     "output_type": "stream",
     "text": [
      "(3, 3)\n"
     ]
    }
   ],
   "source": [
    "img = np.zeros((3,3), dtype=np.uint8)\n",
    "print (img.shape)"
   ]
  },
  {
   "cell_type": "code",
   "execution_count": 1,
   "id": "c8f7c263",
   "metadata": {},
   "outputs": [
    {
     "name": "stdout",
     "output_type": "stream",
     "text": [
      "[[169 169 168 ... 175 162 138]\n",
      " [169 169 168 ... 175 162 138]\n",
      " [169 169 168 ... 175 162 138]\n",
      " ...\n",
      " [ 53  53  59 ... 115 112 114]\n",
      " [ 53  53  64 ... 117 118 122]\n",
      " [ 53  53  64 ... 117 118 122]]\n"
     ]
    }
   ],
   "source": [
    "import cv2\n",
    "path = r'C:\\Users\\Root\\Desktop\\Computer Vision\\TP\\Images\\Lenna.png'\n",
    "img = cv2.imread(path, 0)\n",
    "cv2.imshow('window_name', img)\n",
    "print(img)\n",
    "cv2.imshow('Example - Show image in window', img)\n",
    "cv2.waitKey(0) \n",
    "cv2.destroyAllWindows()"
   ]
  },
  {
   "cell_type": "code",
   "execution_count": 4,
   "id": "d39d2e25",
   "metadata": {},
   "outputs": [
    {
     "name": "stdout",
     "output_type": "stream",
     "text": [
      "169\n",
      "255\n"
     ]
    }
   ],
   "source": [
    "import cv2\n",
    "import numpy as np\n",
    "img = cv2.imread(path)\n",
    "print (img.item(150, 120, 0))\n",
    "img.itemset( (150, 120, 0), 255)\n",
    "print (img.item(150, 120, 0))\n"
   ]
  },
  {
   "cell_type": "code",
   "execution_count": 7,
   "id": "b9d1c512",
   "metadata": {},
   "outputs": [],
   "source": [
    "import cv2\n",
    "import numpy as np\n",
    "img = cv2.imread(path)\n",
    "img[:, :, 1] = 0\n"
   ]
  },
  {
   "cell_type": "code",
   "execution_count": 8,
   "id": "e2febae7",
   "metadata": {},
   "outputs": [
    {
     "data": {
      "text/plain": [
       "-1"
      ]
     },
     "execution_count": 8,
     "metadata": {},
     "output_type": "execute_result"
    }
   ],
   "source": [
    "import cv2\n",
    "img = cv2.imread(path, -1)\n",
    "red_channel = img[:, :, 2]\n",
    "cv2.imshow('Le canal rouge', red_channel)\n",
    "cv2.waitKey(0)"
   ]
  },
  {
   "cell_type": "code",
   "execution_count": 10,
   "id": "fa50723d",
   "metadata": {},
   "outputs": [
    {
     "data": {
      "text/plain": [
       "-1"
      ]
     },
     "execution_count": 10,
     "metadata": {},
     "output_type": "execute_result"
    }
   ],
   "source": [
    "import cv2\n",
    "import numpy as np\n",
    "img = cv2.imread(path, -1)\n",
    "img[:,:,0] = 0\n",
    "img[:,:,1] = 0\n",
    "cv2.imshow('Annulation des canaux bleu et vert',img)\n",
    "cv2.waitKey(0)"
   ]
  },
  {
   "cell_type": "code",
   "execution_count": 11,
   "id": "1838d5d1",
   "metadata": {},
   "outputs": [
    {
     "name": "stdout",
     "output_type": "stream",
     "text": [
      "(512, 512, 3)\n",
      "786432\n",
      "uint8\n",
      "<class 'numpy.ndarray'>\n"
     ]
    }
   ],
   "source": [
    "import cv2\n",
    "import numpy as np\n",
    "img = cv2.imread(path)\n",
    "print (img.shape)\n",
    "print (img.size)\n",
    "print (img.dtype)\n",
    "print(type(img))\n"
   ]
  },
  {
   "cell_type": "code",
   "execution_count": 12,
   "id": "8f61539b",
   "metadata": {},
   "outputs": [
    {
     "data": {
      "image/png": "[encoded data removed]",
      "text/plain": [
       "<Figure size 432x288 with 1 Axes>"
      ]
     },
     "metadata": {
      "needs_background": "light"
     },
     "output_type": "display_data"
    }
   ],
   "source": [
    "import cv2\n",
    "import matplotlib.pyplot as plt\n",
    "img = cv2.imread(path, 1)\n",
    "hist_image = cv2.calcHist([img],[0],None,[256],[0,256])\n",
    "plt.plot(hist_image)\n",
    "plt.show()"
   ]
  }
 ],
 "metadata": {
  "kernelspec": {
   "display_name": "Python 3",
   "language": "python",
   "name": "python3"
  },
  "language_info": {
   "codemirror_mode": {
    "name": "ipython",
    "version": 3
   },
   "file_extension": ".py",
   "mimetype": "text/x-python",
   "name": "python",
   "nbconvert_exporter": "python",
   "pygments_lexer": "ipython3",
   "version": "3.8.8"
  }
 },
 "nbformat": 4,
 "nbformat_minor": 5
}
